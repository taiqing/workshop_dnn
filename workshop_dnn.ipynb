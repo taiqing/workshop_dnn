{
 "cells": [
  {
   "cell_type": "markdown",
   "metadata": {},
   "source": [
    "Have a Taste of DNN on the Shoulder of Theano\n",
    "===="
   ]
  },
  {
   "cell_type": "markdown",
   "metadata": {},
   "source": [
    "![image](fruit.png)"
   ]
  },
  {
   "cell_type": "markdown",
   "metadata": {},
   "source": [
    "## Outline\n",
    "* Introduction to Theano\n",
    "* Softmax regression\n",
    "* Highlights of DNN\n",
    "* Neural network\n",
    "    * Multiple layer perception\n",
    "    * Forward propagation\n",
    "    * Backward propagation\n",
    "* Sparse autoencoder\n",
    "    * Autoencoder\n",
    "    * Sparse autoencoder\n",
    "* Building deep networks for classification\n",
    "    * Model structure\n",
    "    * Pre-training\n",
    "    * Fine-tuning\n",
    "    * Experimental results"
   ]
  },
  {
   "cell_type": "markdown",
   "metadata": {},
   "source": [
    "## Introduction to Theano\n",
    "Theano is Python library that allows you to define, evaluate and optimize math expressions.\n",
    "* Efficient symbolic differentiation\n",
    "* Efficient handling of matrices\n",
    "* Tight integration of NumPy\n",
    "* Dynamic C code generate\n",
    "* Transparent use of GPU"
   ]
  },
  {
   "cell_type": "markdown",
   "metadata": {},
   "source": [
    "Fast to develop and fast to run\n",
    "![image](fast.png)"
   ]
  },
  {
   "cell_type": "markdown",
   "metadata": {},
   "source": [
    "Machine learning libraries built on top of Theano\n",
    "* Pylearn2\n",
    "    * great flexibility and a good choice for trying out ML ideas\n",
    "* PyMC3\n",
    "    * Probabilistic programming; building statistical Bayesian models\n",
    "* Sklearn-theano\n",
    "    * Easy-to-use deep learning tool\n",
    "* Lasagne\n",
    "    * Lightweight library to build neural networks\n",
    "\n",
    "Models that have been built with Theano\n",
    "* Neural networks\n",
    "* Convolutional Neural Networks (CNN)\n",
    "* Recurrent Neural Networks (RNN)\n",
    "* Long Short Term Memory (LSTM)\n",
    "* Autoencoders\n",
    "* GoogLeNet\n",
    "* Overfeat\n",
    "...\n"
   ]
  },
  {
   "cell_type": "markdown",
   "metadata": {},
   "source": [
    "Symbolic variables in Theano\n",
    "* Variable (C, Java, Python, etc.)\n",
    "    * A segment of physical storage in RAM\n",
    "    * Operations are based on value passing between variables\n",
    "* Tensor (Theano)\n",
    "    * A mathematical symbol\n",
    "    * No physical storage in RAM to hold its value\n",
    "    * Operations are actually building connections between tensors\n",
    "* Shared variable (Theano)\n",
    "    * Hybrid of variable and tensor\n",
    "    * Tensor with physical storage in RAM to hold its value\n"
   ]
  },
  {
   "cell_type": "code",
   "execution_count": 12,
   "metadata": {
    "collapsed": false
   },
   "outputs": [
    {
     "name": "stdout",
     "output_type": "stream",
     "text": [
      "The output file is available at 1.png\n"
     ]
    }
   ],
   "source": [
    "import theano\n",
    "import theano.tensor as T\n",
    "\n",
    "x = T.dvector(name='x')\n",
    "def f(x):\n",
    "    return x ** 2\n",
    "y = f(x)\n",
    "\n",
    "theano.printing.pydotprint(theano.function([x], y), '1.png')"
   ]
  },
  {
   "cell_type": "markdown",
   "metadata": {},
   "source": [
    "![image](1.png)"
   ]
  },
  {
   "cell_type": "markdown",
   "metadata": {
    "collapsed": true
   },
   "source": [
    "_theano.function_ brings life to theano variables."
   ]
  },
  {
   "cell_type": "code",
   "execution_count": 9,
   "metadata": {
    "collapsed": false
   },
   "outputs": [
    {
     "name": "stdout",
     "output_type": "stream",
     "text": [
      "a is [ 1.  2.  3.], b is [ 1.  4.  9.]\n"
     ]
    }
   ],
   "source": [
    "import theano\n",
    "import theano.tensor as T\n",
    "import numpy as np\n",
    "\n",
    "x = T.dvector(name='x')\n",
    "def f(x):\n",
    "    return x ** 2\n",
    "y = f(x)\n",
    "\n",
    "pow2 = theano.function(inputs=[x], outputs=y)\n",
    "\n",
    "a = np.array([1,2,3], dtype=theano.config.floatX)\n",
    "b = pow2(a)\n",
    "print \"a is {a}, b is {b}\".format(a=a, b=b)"
   ]
  },
  {
   "cell_type": "code",
   "execution_count": 11,
   "metadata": {
    "collapsed": false
   },
   "outputs": [
    {
     "name": "stdout",
     "output_type": "stream",
     "text": [
      "[array([ 1.,  1.,  1.])]\n"
     ]
    }
   ],
   "source": [
    "import theano\n",
    "import theano.tensor as T\n",
    "import numpy as np\n",
    "\n",
    "x = T.dvector('x')\n",
    "y = x.sum()\n",
    "grad = T.grad(cost=y, wrt=[x])\n",
    "grad_func = theano.function(inputs=[x], outputs=grad)\n",
    "\n",
    "a = np.array([1,2,3], dtype=theano.config.floatX)\n",
    "print grad_func(a)"
   ]
  },
  {
   "cell_type": "markdown",
   "metadata": {},
   "source": [
    "## Softmax Regression"
   ]
  },
  {
   "cell_type": "markdown",
   "metadata": {},
   "source": [
    "### Introduction\n",
    "\n",
    "In the softmax regression setting, we are interested in multi-class classification. Suppose we have $m$ samples in the training set $\\{(x^{(1)}, y^{(1)}),...,(x^{(m)}, y^{(m)})\\}$, where $y^{(i)}\\in \\{1,2,...,k\\}$.\n",
    "\n",
    "Given a test sample $x$, we want to estimate the probability that $x$ belongs to class $j$, i.e., $p(y=j|x)$, for all possible $j$.\n",
    "\n",
    "\\begin{equation}\n",
    "h_\\theta(x) = \n",
    "\\left[\n",
    "  \\begin{array}{c}\n",
    "  p(y=1|x;\\theta)\\\\\n",
    "  p(y=2|x;\\theta)\\\\\n",
    "  ...\\\\\n",
    "  p(y=k|x;\\theta)\\\\\n",
    "  \\end{array}\n",
    "\\right]\n",
    "=\\frac{1}{\\sum_{j=1}^{k}{e^{\\theta_j^Tx+b_j}}}\n",
    "\\left[\n",
    "  \\begin{array}{c}\n",
    "  e^{\\theta_1^Tx+b_1}\\\\\n",
    "  e^{\\theta_2^Tx+b_2}\\\\\n",
    "  ...\\\\\n",
    "  e^{\\theta_k^Tx+b_k}\\\\\n",
    "  \\end{array}\n",
    "\\right]\n",
    "\\end{equation}"
   ]
  },
  {
   "cell_type": "code",
   "execution_count": null,
   "metadata": {
    "collapsed": true
   },
   "outputs": [],
   "source": []
  }
 ],
 "metadata": {
  "kernelspec": {
   "display_name": "Python 2",
   "language": "python",
   "name": "python2"
  },
  "language_info": {
   "codemirror_mode": {
    "name": "ipython",
    "version": 2
   },
   "file_extension": ".py",
   "mimetype": "text/x-python",
   "name": "python",
   "nbconvert_exporter": "python",
   "pygments_lexer": "ipython2",
   "version": "2.7.6"
  }
 },
 "nbformat": 4,
 "nbformat_minor": 0
}
